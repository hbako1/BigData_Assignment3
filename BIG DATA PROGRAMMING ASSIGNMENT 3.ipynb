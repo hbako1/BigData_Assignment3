{
 "cells": [
  {
   "cell_type": "markdown",
   "metadata": {},
   "source": [
    "BIG DATA PROGRAMMING HOMEWORK #3\n",
    "UNDERGRADUATE STUDENT \n",
    "NAME: HAMA EARVIN BAKO "
   ]
  },
  {
   "cell_type": "code",
   "execution_count": null,
   "metadata": {},
   "outputs": [],
   "source": [
    "import sqlite3"
   ]
  },
  {
   "cell_type": "code",
   "execution_count": null,
   "metadata": {},
   "outputs": [],
   "source": [
    "conn = sqlite3.connect('database.sqlite')"
   ]
  },
  {
   "cell_type": "code",
   "execution_count": null,
   "metadata": {},
   "outputs": [],
   "source": [
    "cursor = conn.cursor()"
   ]
  },
  {
   "cell_type": "markdown",
   "metadata": {},
   "source": [
    "Question 1 (20 points): Write a SQL query that lists all the players born between 1987 and 1990\n",
    "inclusive, sort them from the oldest to the youngest. The output of this query should be of the form:\n",
    "Player Name | Birthday"
   ]
  },
  {
   "cell_type": "code",
   "execution_count": null,
   "metadata": {},
   "outputs": [],
   "source": [
    "cursor.execute(\"SELECT player_name, birthday FROM PLAYER WHERE birthday >=1987 AND  birthday <= 1990 ORDER BY birthday ASC;\") \n"
   ]
  },
  {
   "cell_type": "code",
   "execution_count": null,
   "metadata": {},
   "outputs": [],
   "source": [
    "rows = cursor.fetchall() "
   ]
  },
  {
   "cell_type": "code",
   "execution_count": null,
   "metadata": {},
   "outputs": [],
   "source": [
    "for row in rows: \n",
    "    print(row)"
   ]
  },
  {
   "cell_type": "markdown",
   "metadata": {},
   "source": [
    "Question 2 (20 points): Write a SQL query that ranks all countries and leagues based on the total\n",
    "amount of total goals scored per game in the whole dataset. Sort them by the largest to the smallest\n",
    "amount of goals. Note: Read this carefully. The output of this query should be of the form:\n",
    "Country | League Name |Total Goals Scored"
   ]
  },
  {
   "cell_type": "code",
   "execution_count": null,
   "metadata": {},
   "outputs": [],
   "source": [
    "cursor.execute(\"SELECT DISTINCT Country.name, League.name, SUM(Match.home_team_goal + Match.away_team_goal) FROM Country, League, Match WHERE Country.id = League.country_id GROUP BY Country.id ORDER BY SUM(Match.home_team_goal + Match.away_team_goal) ASC;\")\n"
   ]
  },
  {
   "cell_type": "code",
   "execution_count": null,
   "metadata": {},
   "outputs": [],
   "source": [
    "rows = cursor.fetchall()"
   ]
  },
  {
   "cell_type": "code",
   "execution_count": null,
   "metadata": {},
   "outputs": [],
   "source": [
    "#The answer is wrong because the data is corrupted\n",
    "#The country id and league id for the Match table is always 1 \n",
    "for row in rows: \n",
    "    print(row)"
   ]
  },
  {
   "cell_type": "markdown",
   "metadata": {},
   "source": [
    "Question 3 (20 points): Write a SQL query that ranks all teams by the average of all their attributes (not\n",
    "the players' attributes), sort them from best to worst. The output of this query should be of the form:\n",
    "Team Long Name | Average of Attributes"
   ]
  },
  {
   "cell_type": "code",
   "execution_count": null,
   "metadata": {},
   "outputs": [],
   "source": [
    "cursor.execute(\"SELECT DISTINCT team_long_name, (BuildUpPLaySpeed + BuildUpPlayDribbling + BuildUpPlayPassing + chanceCreationPassing + chanceCreationCrossing + chanceCreationShooting + defencePressure + defenceAggression + defenceTeamWidth)/9 FROM Team, Team_Attributes WHERE Team.team_api_id = Team_Attributes.team_api_id ORDER BY (BuildUpPLaySpeed + BuildUpPlayDribbling + BuildUpPlayPassing + chanceCreationPassing + chanceCreationCrossing + chanceCreationShooting + defencePressure + defenceAggression + defenceTeamWidth)/9 DESC ;\")\n",
    "\n"
   ]
  },
  {
   "cell_type": "code",
   "execution_count": null,
   "metadata": {},
   "outputs": [],
   "source": [
    "rows = cursor.fetchall()"
   ]
  },
  {
   "cell_type": "code",
   "execution_count": null,
   "metadata": {},
   "outputs": [],
   "source": [
    "for row in rows:\n",
    "    print(row)"
   ]
  },
  {
   "cell_type": "code",
   "execution_count": null,
   "metadata": {},
   "outputs": [],
   "source": [
    "Question 4 (20 points): Write a SQL query that ranks all teams by the average of their players'\n",
    "attributes, sort them by descending order displaying only the top 5. The output of this query should be\n",
    "of the form:\n",
    "Team Name| Number of Players | Player Attribute Average"
   ]
  },
  {
   "cell_type": "code",
   "execution_count": null,
   "metadata": {},
   "outputs": [],
   "source": [
    "cursor.execute(\"SELECT team_long_name, Count(player_fifa_api_id), AVG(overall_rating) FROM Team, PLayer_Attributes WHERE team_fifa_api_id = player_fifa_api_id GROUP BY team_fifa_api_id ORDER BY AVG(overall_rating) DESC LIMIT 5;\")\n",
    "\n"
   ]
  },
  {
   "cell_type": "code",
   "execution_count": null,
   "metadata": {},
   "outputs": [],
   "source": [
    "rows = cursor.fetchall()\n"
   ]
  },
  {
   "cell_type": "code",
   "execution_count": null,
   "metadata": {},
   "outputs": [],
   "source": [
    "for row in rows: \n",
    "    print(row)"
   ]
  },
  {
   "cell_type": "markdown",
   "metadata": {},
   "source": [
    "Question 5 (40 points): Write a SINGLE SQL query that finds the date that had the most goals scored on,\n",
    "per each different season and league. The output of this query should be of the form:\n",
    "Date (dd/mm/yy) | Season | League Name | Goals scored"
   ]
  },
  {
   "cell_type": "code",
   "execution_count": null,
   "metadata": {},
   "outputs": [],
   "source": [
    "cursor.execute(\"SELECT DISTINCT Match.date, Match.season, League.name, SUM(Match.home_team_goal + Match.away_team_goal) FROM Match, League WHERE Match.league_id = League.id GROUP BY Match.date ORDER BY SUM(Match.home_team_goal + Match.away_team_goal) DESC LIMIT 5;\") \n",
    "\n"
   ]
  },
  {
   "cell_type": "code",
   "execution_count": null,
   "metadata": {},
   "outputs": [],
   "source": [
    "rows = cursor.fetchall()\n"
   ]
  },
  {
   "cell_type": "code",
   "execution_count": null,
   "metadata": {},
   "outputs": [],
   "source": [
    "for row in rows: \n",
    "    print(row)"
   ]
  },
  {
   "cell_type": "markdown",
   "metadata": {},
   "source": [
    "Graduate Student Task (40 points): Write a SINGLE SQL query that finds the top 5 teams in terms of\n",
    "goals scored PER league for the 2008/2009 season. The output of this query should be of the form:"
   ]
  },
  {
   "cell_type": "code",
   "execution_count": null,
   "metadata": {},
   "outputs": [],
   "source": [
    "cursor.execute(\"SELECT DISTINCT team_long_name, Match.season, League.name, SUM(Match.home_team_goal + Match.away_team_goal) FROM Team, League, Match WHERE Match.season LIKE '%2008/2009%' AND Match.League_id = League.id  AND (team_api_id = home_team_api_id OR team_api_id = away_team_api_id) GROUP BY team_api_id ORDER BY SUM(Match.home_team_goal + Match.away_team_goal) DESC LIMIT 5;\")\n",
    "\n"
   ]
  },
  {
   "cell_type": "code",
   "execution_count": null,
   "metadata": {},
   "outputs": [],
   "source": [
    "rows = cursor.fetchall() "
   ]
  },
  {
   "cell_type": "code",
   "execution_count": null,
   "metadata": {},
   "outputs": [],
   "source": [
    "#I wasn't able to get each league top 5 teams in term of goals scored per league \n",
    "#Instead I just got the overalll top 5 teams  \n",
    "#The only way I can think of doing it is through UNION and make 9 SELECT statement for eah league \n",
    "#So I just stop here. I feel like I am close, but I can't find the way to nest it properly \n",
    "for row in rows:\n",
    "    print(row)"
   ]
  },
  {
   "cell_type": "code",
   "execution_count": null,
   "metadata": {},
   "outputs": [],
   "source": []
  }
 ],
 "metadata": {
  "kernelspec": {
   "display_name": "Python 3",
   "language": "python",
   "name": "python3"
  },
  "language_info": {
   "codemirror_mode": {
    "name": "ipython",
    "version": 3
   },
   "file_extension": ".py",
   "mimetype": "text/x-python",
   "name": "python",
   "nbconvert_exporter": "python",
   "pygments_lexer": "ipython3",
   "version": "3.7.3"
  }
 },
 "nbformat": 4,
 "nbformat_minor": 2
}
